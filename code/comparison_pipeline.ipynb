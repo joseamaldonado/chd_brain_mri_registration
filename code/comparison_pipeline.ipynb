{
 "cells": [
  {
   "cell_type": "code",
   "execution_count": null,
   "id": "14b600f9-efa2-4e1b-b21b-924a417b6d79",
   "metadata": {},
   "outputs": [],
   "source": [
    "import nibabel as nib\n",
    "import nipy as nipy\n",
    "import matplotlib.pyplot as plt\n",
    "import nipype.algorithms.rapidart as rpd    # rapidart module\n",
    "import nipype.interfaces.io as nio          # Data i/o\n",
    "import nipype.interfaces.fsl as fsl         # fsl\n",
    "import nipype.interfaces.utility as util    # utility\n",
    "import nipype.pipeline.engine as pe         # pypeline engine\n",
    "import numpy as np\n",
    "import os, sys\n",
    "from tqdm import tqdm\n",
    "import time"
   ]
  },
  {
   "cell_type": "code",
   "execution_count": null,
   "id": "fd508705-dd9b-4901-b387-04fef40ff35d",
   "metadata": {},
   "outputs": [],
   "source": [
    "def getSimilarityBetweenVolumes(source, target, scheduleTXT):\n",
    "    import subprocess\n",
    "    import nipype.interfaces.fsl as fsl  # fsl\n",
    "    \n",
    "    #building the command\n",
    "    flirt = fsl.FLIRT()\n",
    "    flirt.inputs.in_file   = source\n",
    "    flirt.inputs.cost      = 'corratio'\n",
    "    flirt.inputs.reference = target\n",
    "    flirt.inputs.schedule  = scheduleTXT\n",
    "\n",
    "    #running the command\n",
    "    cmdline = flirt.cmdline.split(' ')\n",
    "    result = subprocess.run(cmdline, stdout=subprocess.PIPE, stderr=subprocess.PIPE, universal_newlines=True)\n",
    "    \n",
    "    #make sure there was no errors\n",
    "    if result.returncode != 0:\n",
    "        print(f\"Error occurred: {result.stderr}\")\n",
    "        return None\n",
    "    \n",
    "    #capture and return the similarity as a float. \n",
    "    return float(result.stdout.split()[0])"
   ]
  },
  {
   "cell_type": "code",
   "execution_count": null,
   "id": "eb4080a4-4609-4d69-9dbf-c466d4bb4dac",
   "metadata": {},
   "outputs": [],
   "source": [
    "# Extracts and returns brain from skull image\n",
    "def getBET(input_file, fraction):\n",
    "    fsl_bet = fsl.BET(in_file=input_file, frac=fraction)\n",
    "    output = fsl_bet.run()\n",
    "    return output.outputs.out_file"
   ]
  },
  {
   "cell_type": "code",
   "execution_count": null,
   "id": "22b996d0-e0d6-4f8d-8423-3952d0eec165",
   "metadata": {},
   "outputs": [],
   "source": [
    "# Extracts and returns brain mask from skull image\n",
    "# Output file name check\n",
    "def getMask(input_file, mask_file):\n",
    "    fsl_mask = fsl.ApplyMask(in_file=input_file, mask_file=mask_file)\n",
    "    output=fsl_mask.run()\n",
    "    return output.outputs.out_file"
   ]
  },
  {
   "cell_type": "code",
   "execution_count": null,
   "id": "acb190ee-2821-441a-940c-b3b8443f8c7f",
   "metadata": {},
   "outputs": [],
   "source": [
    "# Registers input image onto the reference image\n",
    "def getFLIRT(input_file, reference_file):\n",
    "    fslflirt = fsl.FLIRT()\n",
    "    fslflirt.inputs.in_file = input_file\n",
    "    fslflirt.inputs.reference = reference_file\n",
    "    output = fslflirt.run()\n",
    "    return output.outputs.out_file"
   ]
  },
  {
   "cell_type": "code",
   "execution_count": null,
   "id": "781d9a9a-2939-4542-a08f-ff25916b3462",
   "metadata": {},
   "outputs": [],
   "source": [
    "# Sorts data into dictionary and returns dictionary\n",
    "def findFileLocations():\n",
    "    subjDict = {}\n",
    "    dataDir = \"/data/subjects\"\n",
    "    for subj in os.listdir(dataDir):\n",
    "        if subj.isdigit():\n",
    "            fetalFol = subj + \"_fetal\"\n",
    "            neonateFol = subj + \"_neonate\" \n",
    "            fetalDir = os.path.join(dataDir, subj, fetalFol)\n",
    "            fetalMask = None\n",
    "            fetalTemplate = None\n",
    "            for file in os.listdir(fetalDir):\n",
    "                if \"mask\" in file:\n",
    "                    fetalMask = os.path.join(fetalDir, file)\n",
    "                elif \"template\" in file or \"recon\" in file:\n",
    "                    fetalTemplate = os.path.join(fetalDir, file)\n",
    "            outputsFol = None\n",
    "            outputNum = None\n",
    "            neonateDir = os.path.join(dataDir, subj, neonateFol)\n",
    "            for folder in os.listdir(neonateDir):\n",
    "                if \"Outputs\" in folder:\n",
    "                    outputsFol = os.path.join(neonateDir, folder)\n",
    "                    outputNum = int(folder[7])\n",
    "                    break\n",
    "            neonateDir = os.path.join(outputsFol, \"T2_Bias_Corrected\")\n",
    "            neonateFile = None\n",
    "            for file in os.listdir(neonateDir):\n",
    "                neonateFile = os.path.join(neonateDir, file)\n",
    "            subjDict[subj] = (fetalTemplate, fetalMask, neonateFile, outputNum)\n",
    "    return subjDict"
   ]
  },
  {
   "cell_type": "code",
   "execution_count": null,
   "id": "57e7fb2e-826f-4c1d-913b-36c93e3cb7da",
   "metadata": {},
   "outputs": [],
   "source": [
    "subjDict = findFileLocations()\n",
    "dataDir = \"/data/subjects\"\n",
    "for subj in os.listdir(dataDir):\n",
    "    if subj.isdigit():\n",
    "        neonateFol = subj + \"_neonate\" \n",
    "        neonateDir = os.path.join(dataDir, subj, neonateFol)\n",
    "        count = len([x for x in os.listdir(neonateDir) if not x[0] == '.'])\n",
    "        if count > 1:\n",
    "            print(os.listdir(neonateDir))\n",
    "            print(subj, subjDict[subj][3])\n",
    "            "
   ]
  },
  {
   "cell_type": "code",
   "execution_count": null,
   "id": "7210b488-3f97-46d0-860b-7634cc9f73d5",
   "metadata": {},
   "outputs": [],
   "source": [
    "def process():\n",
    "    subjDict = findFileLocations()\n",
    "    schedtext = \"/data/code/sched.txt\"\n",
    "    for subj in tqdm(subjDict):\n",
    "        template = subjDict[subj][0]\n",
    "        mask = subjDict[subj][1]\n",
    "        neonate = subjDict[subj][2]\n",
    "        directory = \"/data/subjects/\" + subj + \"/\" + subj + \"_outputs\"\n",
    "        try:\n",
    "            if not os.path.exists(directory):\n",
    "                os.makedirs(directory)\n",
    "        except OSError:\n",
    "            print ('Error: Creating directory. ' +  directory)\n",
    "        os.chdir(directory)\n",
    "        fileDir = os.path.join(directory, \"similar.txt\")\n",
    "        # Apply mask\n",
    "        appliedMask = getMask(template, mask)\n",
    "        # Register images and evaluate how similar they are\n",
    "        flirtFile = getFLIRT(appliedMask, neonate)\n",
    "        similarity = getSimilarityBetweenVolumes(appliedMask, neonate, schedtext)\n",
    "        # Creates text file for similiarity value\n",
    "        with open(fileDir, \"w\") as f:\n",
    "            f.write(str(similarity))"
   ]
  },
  {
   "cell_type": "code",
   "execution_count": null,
   "id": "5decf99d-17a6-4e85-abc8-a4c2cd923919",
   "metadata": {},
   "outputs": [],
   "source": [
    "schedtext = \"/data/code/sched.txt\"\n",
    "mask = \"/data/subjects/0006/0006_fetal/0006_srr_template_mask.nii.gz\"\n",
    "template = \"/data/subjects/0006/0006_fetal/0006_srr_template.nii.gz\"\n",
    "neonatal = \"/data/subjects/0006/0006_neonate/0006_MR1_Outputs/T2_Bias_Corrected/2-COR_T2_BLADE_2MM_T2_Bias_Corrected.nii.gz\"\n",
    "appliedMask = getMask(template, mask)\n",
    "simVal = getSimilarityBetweenVolumes(neonatal, appliedMask, schedtext)"
   ]
  }
 ],
 "metadata": {
  "kernelspec": {
   "display_name": "Python 3",
   "language": "python",
   "name": "python3"
  },
  "language_info": {
   "codemirror_mode": {
    "name": "ipython",
    "version": 3
   },
   "file_extension": ".py",
   "mimetype": "text/x-python",
   "name": "python",
   "nbconvert_exporter": "python",
   "pygments_lexer": "ipython3",
   "version": "3.6.9"
  }
 },
 "nbformat": 4,
 "nbformat_minor": 5
}
